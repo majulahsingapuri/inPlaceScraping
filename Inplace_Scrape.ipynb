{
 "cells": [
  {
   "cell_type": "markdown",
   "metadata": {
    "id": "C-sa5iYdsa_J"
   },
   "source": [
    "## Get InPlace Listings"
   ]
  },
  {
   "cell_type": "code",
   "execution_count": null,
   "metadata": {},
   "outputs": [],
   "source": [
    "import pandas as pd\n",
    "import requests"
   ]
  },
  {
   "cell_type": "markdown",
   "metadata": {},
   "source": [
    "how to get cookies, headers and params\n",
    "\n",
    "load up a listing on the inplace portal while having your browser's debug tools on the networking tab.\n",
    "find the details xhr request and copy it as a cURL\n",
    "go to https://curl.trillworks.com and paste it in to convert it to python\n",
    "copy the 3 items needed\n",
    "\n",
    "adjust properties as to your needs"
   ]
  },
  {
   "cell_type": "code",
   "execution_count": null,
   "metadata": {},
   "outputs": [],
   "source": [
    "listings = []\n",
    "start_num = 18000\n",
    "end_num = 23000\n",
    "cookies = {\n",
    "    \n",
    "}\n",
    "headers = {\n",
    "    \n",
    "}\n",
    "params = (\n",
    "    \n",
    ")\n",
    "properties = [\n",
    "    'opportunityId', \n",
    "    'title', \n",
    "    'description', \n",
    "    'agencyName', \n",
    "    'agencyAddress', \n",
    "    'placesAvailable', \n",
    "    'applicationInstructions', \n",
    "    'applicationRequirements', \n",
    "    'startDate', 'endDate', \n",
    "    'applicationStartDate', \n",
    "    'applicationEndDate', \n",
    "    'salaryAmountMin', \n",
    "    'salaryAmountMax', \n",
    "    'salaryCurrency'\n",
    "]"
   ]
  },
  {
   "cell_type": "code",
   "execution_count": null,
   "metadata": {
    "scrolled": true
   },
   "outputs": [],
   "source": [
    "for i in range(start_num, end_num + 1):\n",
    "    response = requests.get(\n",
    "        'https://inplace.ntu.edu.sg/oppapi/student/opportunities/' + str(i) + '/detail', \n",
    "        headers=headers, \n",
    "        params=params, \n",
    "        cookies=cookies\n",
    "    )\n",
    "    print('Iteration:', i, ', Status: ', response.status_code)\n",
    "    if response.status_code == 200:\n",
    "        response_json = response.json()\n",
    "        cleaned_json = {}\n",
    "\n",
    "        for _property in properties:\n",
    "            cleaned_json[_property] = response_json[_property]\n",
    "        listings.append(cleaned_json)"
   ]
  },
  {
   "cell_type": "code",
   "execution_count": null,
   "metadata": {},
   "outputs": [],
   "source": [
    "df = pd.DataFrame(listings)\n",
    "df.head()"
   ]
  },
  {
   "cell_type": "code",
   "execution_count": null,
   "metadata": {},
   "outputs": [],
   "source": [
    "df.to_csv('listing.csv')"
   ]
  },
  {
   "cell_type": "markdown",
   "metadata": {},
   "source": [
    "## Data sci"
   ]
  },
  {
   "cell_type": "code",
   "execution_count": 6,
   "metadata": {},
   "outputs": [],
   "source": [
    "import pandas as pd\n",
    "import matplotlib.pyplot as plt \n",
    "import seaborn as sb\n",
    "sb.set()"
   ]
  },
  {
   "cell_type": "code",
   "execution_count": 3,
   "metadata": {},
   "outputs": [
    {
     "data": {
      "text/html": [
       "<div>\n",
       "<style scoped>\n",
       "    .dataframe tbody tr th:only-of-type {\n",
       "        vertical-align: middle;\n",
       "    }\n",
       "\n",
       "    .dataframe tbody tr th {\n",
       "        vertical-align: top;\n",
       "    }\n",
       "\n",
       "    .dataframe thead th {\n",
       "        text-align: right;\n",
       "    }\n",
       "</style>\n",
       "<table border=\"1\" class=\"dataframe\">\n",
       "  <thead>\n",
       "    <tr style=\"text-align: right;\">\n",
       "      <th></th>\n",
       "      <th>Unnamed: 0</th>\n",
       "      <th>opportunityId</th>\n",
       "      <th>title</th>\n",
       "      <th>description</th>\n",
       "      <th>agencyName</th>\n",
       "      <th>agencyAddress</th>\n",
       "      <th>placesAvailable</th>\n",
       "      <th>applicationInstructions</th>\n",
       "      <th>applicationRequirements</th>\n",
       "      <th>startDate</th>\n",
       "      <th>endDate</th>\n",
       "      <th>applicationStartDate</th>\n",
       "      <th>applicationEndDate</th>\n",
       "      <th>salaryAmountMin</th>\n",
       "      <th>salaryAmountMax</th>\n",
       "      <th>salaryCurrency</th>\n",
       "    </tr>\n",
       "  </thead>\n",
       "  <tbody>\n",
       "    <tr>\n",
       "      <th>0</th>\n",
       "      <td>0</td>\n",
       "      <td>18469</td>\n",
       "      <td>Data &amp; Front-End Developer Intern</td>\n",
       "      <td>Responsibilities:\\nDevelop Hiverlab's business...</td>\n",
       "      <td>Hiverlab Pte Ltd</td>\n",
       "      <td>1008/#04-12/14/15 / 1008 Toa Payoh North, 3189...</td>\n",
       "      <td>2</td>\n",
       "      <td>Please ensure that you attach a copy of your C...</td>\n",
       "      <td>NaN</td>\n",
       "      <td>2022-01-10T00:00:00</td>\n",
       "      <td>2022-05-28T23:59:00</td>\n",
       "      <td>2021-08-25T00:00:00</td>\n",
       "      <td>2021-08-31T23:59:00</td>\n",
       "      <td>NaN</td>\n",
       "      <td>NaN</td>\n",
       "      <td>NaN</td>\n",
       "    </tr>\n",
       "    <tr>\n",
       "      <th>1</th>\n",
       "      <td>1</td>\n",
       "      <td>18470</td>\n",
       "      <td>Unity Developer (Intern)</td>\n",
       "      <td>Responsibilities:\\nCollaborate closely with th...</td>\n",
       "      <td>Hiverlab Pte Ltd</td>\n",
       "      <td>1008/#04-12/14/15 / 1008 Toa Payoh North, 3189...</td>\n",
       "      <td>2</td>\n",
       "      <td>Please ensure that you attach a copy of your C...</td>\n",
       "      <td>NaN</td>\n",
       "      <td>2022-01-10T00:00:00</td>\n",
       "      <td>2022-05-28T23:59:00</td>\n",
       "      <td>2021-08-25T00:00:00</td>\n",
       "      <td>2021-08-31T23:59:00</td>\n",
       "      <td>NaN</td>\n",
       "      <td>NaN</td>\n",
       "      <td>NaN</td>\n",
       "    </tr>\n",
       "    <tr>\n",
       "      <th>2</th>\n",
       "      <td>2</td>\n",
       "      <td>18471</td>\n",
       "      <td>Developing 3D Applications Solution for Machin...</td>\n",
       "      <td>To develop a software platform for 3D applicat...</td>\n",
       "      <td>Inspiraz Technology Pte Ltd</td>\n",
       "      <td>Blk 19 Kallang Avenue #06-163, 339410, Singapore</td>\n",
       "      <td>2</td>\n",
       "      <td>Please ensure that you attach a copy of your C...</td>\n",
       "      <td>C/C++\\nVisual Studio\\nImage processing\\nOpenCV...</td>\n",
       "      <td>2022-01-10T00:00:00</td>\n",
       "      <td>2022-05-28T23:59:00</td>\n",
       "      <td>2021-08-25T00:00:00</td>\n",
       "      <td>2021-08-31T23:59:00</td>\n",
       "      <td>1000.0</td>\n",
       "      <td>1000.0</td>\n",
       "      <td>SGD</td>\n",
       "    </tr>\n",
       "    <tr>\n",
       "      <th>3</th>\n",
       "      <td>3</td>\n",
       "      <td>18472</td>\n",
       "      <td>Real Time gigapixel camera software developmen...</td>\n",
       "      <td>Incorporating image processing algorithms, ima...</td>\n",
       "      <td>DSO National Laboratories</td>\n",
       "      <td>12 / 12 Science Park Drive, SINGAPORE, 118225,...</td>\n",
       "      <td>2</td>\n",
       "      <td>Please ensure that you attach a copy of your C...</td>\n",
       "      <td>Prerequisites:\\n• Singaporeans only\\n• CGPA of...</td>\n",
       "      <td>2022-01-10T00:00:00</td>\n",
       "      <td>2022-05-28T23:59:00</td>\n",
       "      <td>2021-08-25T00:00:00</td>\n",
       "      <td>2021-08-31T23:59:00</td>\n",
       "      <td>2000.0</td>\n",
       "      <td>2000.0</td>\n",
       "      <td>SGD</td>\n",
       "    </tr>\n",
       "    <tr>\n",
       "      <th>4</th>\n",
       "      <td>4</td>\n",
       "      <td>18473</td>\n",
       "      <td>Real Time embedded software development and te...</td>\n",
       "      <td>Develop embedded software framework for applic...</td>\n",
       "      <td>DSO National Laboratories</td>\n",
       "      <td>12 / 12 Science Park Drive, SINGAPORE, 118225,...</td>\n",
       "      <td>1</td>\n",
       "      <td>Please ensure that you attach a copy of your C...</td>\n",
       "      <td>Prerequisites:\\n• Singaporeans only\\n• CGPA of...</td>\n",
       "      <td>2022-01-10T00:00:00</td>\n",
       "      <td>2022-05-28T23:59:00</td>\n",
       "      <td>2021-08-25T00:00:00</td>\n",
       "      <td>2021-08-31T23:59:00</td>\n",
       "      <td>2000.0</td>\n",
       "      <td>2000.0</td>\n",
       "      <td>SGD</td>\n",
       "    </tr>\n",
       "  </tbody>\n",
       "</table>\n",
       "</div>"
      ],
      "text/plain": [
       "   Unnamed: 0  opportunityId  \\\n",
       "0           0          18469   \n",
       "1           1          18470   \n",
       "2           2          18471   \n",
       "3           3          18472   \n",
       "4           4          18473   \n",
       "\n",
       "                                               title  \\\n",
       "0                  Data & Front-End Developer Intern   \n",
       "1                           Unity Developer (Intern)   \n",
       "2  Developing 3D Applications Solution for Machin...   \n",
       "3  Real Time gigapixel camera software developmen...   \n",
       "4  Real Time embedded software development and te...   \n",
       "\n",
       "                                         description  \\\n",
       "0  Responsibilities:\\nDevelop Hiverlab's business...   \n",
       "1  Responsibilities:\\nCollaborate closely with th...   \n",
       "2  To develop a software platform for 3D applicat...   \n",
       "3  Incorporating image processing algorithms, ima...   \n",
       "4  Develop embedded software framework for applic...   \n",
       "\n",
       "                    agencyName  \\\n",
       "0             Hiverlab Pte Ltd   \n",
       "1             Hiverlab Pte Ltd   \n",
       "2  Inspiraz Technology Pte Ltd   \n",
       "3    DSO National Laboratories   \n",
       "4    DSO National Laboratories   \n",
       "\n",
       "                                       agencyAddress  placesAvailable  \\\n",
       "0  1008/#04-12/14/15 / 1008 Toa Payoh North, 3189...                2   \n",
       "1  1008/#04-12/14/15 / 1008 Toa Payoh North, 3189...                2   \n",
       "2   Blk 19 Kallang Avenue #06-163, 339410, Singapore                2   \n",
       "3  12 / 12 Science Park Drive, SINGAPORE, 118225,...                2   \n",
       "4  12 / 12 Science Park Drive, SINGAPORE, 118225,...                1   \n",
       "\n",
       "                             applicationInstructions  \\\n",
       "0  Please ensure that you attach a copy of your C...   \n",
       "1  Please ensure that you attach a copy of your C...   \n",
       "2  Please ensure that you attach a copy of your C...   \n",
       "3  Please ensure that you attach a copy of your C...   \n",
       "4  Please ensure that you attach a copy of your C...   \n",
       "\n",
       "                             applicationRequirements            startDate  \\\n",
       "0                                                NaN  2022-01-10T00:00:00   \n",
       "1                                                NaN  2022-01-10T00:00:00   \n",
       "2  C/C++\\nVisual Studio\\nImage processing\\nOpenCV...  2022-01-10T00:00:00   \n",
       "3  Prerequisites:\\n• Singaporeans only\\n• CGPA of...  2022-01-10T00:00:00   \n",
       "4  Prerequisites:\\n• Singaporeans only\\n• CGPA of...  2022-01-10T00:00:00   \n",
       "\n",
       "               endDate applicationStartDate   applicationEndDate  \\\n",
       "0  2022-05-28T23:59:00  2021-08-25T00:00:00  2021-08-31T23:59:00   \n",
       "1  2022-05-28T23:59:00  2021-08-25T00:00:00  2021-08-31T23:59:00   \n",
       "2  2022-05-28T23:59:00  2021-08-25T00:00:00  2021-08-31T23:59:00   \n",
       "3  2022-05-28T23:59:00  2021-08-25T00:00:00  2021-08-31T23:59:00   \n",
       "4  2022-05-28T23:59:00  2021-08-25T00:00:00  2021-08-31T23:59:00   \n",
       "\n",
       "   salaryAmountMin  salaryAmountMax salaryCurrency  \n",
       "0              NaN              NaN            NaN  \n",
       "1              NaN              NaN            NaN  \n",
       "2           1000.0           1000.0            SGD  \n",
       "3           2000.0           2000.0            SGD  \n",
       "4           2000.0           2000.0            SGD  "
      ]
     },
     "execution_count": 3,
     "metadata": {},
     "output_type": "execute_result"
    }
   ],
   "source": [
    "df = pd.read_csv('listing.csv')\n",
    "df.head()"
   ]
  },
  {
   "cell_type": "code",
   "execution_count": 10,
   "metadata": {},
   "outputs": [
    {
     "data": {
      "text/plain": [
       "0       NaN\n",
       "1       NaN\n",
       "2    1000.0\n",
       "3    2000.0\n",
       "4    2000.0\n",
       "Name: salaryAmountMax, dtype: float64"
      ]
     },
     "execution_count": 10,
     "metadata": {},
     "output_type": "execute_result"
    }
   ],
   "source": [
    "salary = df['salaryAmountMax']\n",
    "salary.head()"
   ]
  },
  {
   "cell_type": "code",
   "execution_count": 11,
   "metadata": {},
   "outputs": [
    {
     "name": "stderr",
     "output_type": "stream",
     "text": [
      "/Users/bhargav/opt/anaconda3/lib/python3.8/site-packages/seaborn/_decorators.py:36: FutureWarning: Pass the following variable as a keyword arg: x. From version 0.12, the only valid positional argument will be `data`, and passing other arguments without an explicit keyword will result in an error or misinterpretation.\n",
      "  warnings.warn(\n"
     ]
    },
    {
     "data": {
      "text/plain": [
       "<AxesSubplot:xlabel='salaryAmountMax'>"
      ]
     },
     "execution_count": 11,
     "metadata": {},
     "output_type": "execute_result"
    },
    {
     "data": {
      "image/png": "[encoded data removed]",
      "text/plain": [
       "<Figure size 432x288 with 1 Axes>"
      ]
     },
     "metadata": {},
     "output_type": "display_data"
    }
   ],
   "source": [
    "sb.boxplot(salary)"
   ]
  },
  {
   "cell_type": "code",
   "execution_count": 12,
   "metadata": {},
   "outputs": [
    {
     "data": {
      "text/plain": [
       "count      961.000000\n",
       "mean      1344.853278\n",
       "std        504.409823\n",
       "min         56.000000\n",
       "25%       1000.000000\n",
       "50%       1200.000000\n",
       "75%       1500.000000\n",
       "max      10000.000000\n",
       "Name: salaryAmountMax, dtype: float64"
      ]
     },
     "execution_count": 12,
     "metadata": {},
     "output_type": "execute_result"
    }
   ],
   "source": [
    "salary.describe()"
   ]
  },
  {
   "cell_type": "code",
   "execution_count": null,
   "metadata": {},
   "outputs": [],
   "source": []
  }
 ],
 "metadata": {
  "colab": {
   "collapsed_sections": [],
   "name": "Inplace Scrape.ipynb",
   "provenance": []
  },
  "kernelspec": {
   "display_name": "Python 3",
   "language": "python",
   "name": "python3"
  },
  "language_info": {
   "codemirror_mode": {
    "name": "ipython",
    "version": 3
   },
   "file_extension": ".py",
   "mimetype": "text/x-python",
   "name": "python",
   "nbconvert_exporter": "python",
   "pygments_lexer": "ipython3",
   "version": "3.8.5"
  }
 },
 "nbformat": 4,
 "nbformat_minor": 1
}
